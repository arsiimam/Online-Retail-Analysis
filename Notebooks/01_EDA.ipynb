{
 "cells": [
  {
   "cell_type": "markdown",
   "metadata": {},
   "source": [
    "# **Data Preparation**\n"
   ]
  },
  {
   "cell_type": "code",
   "execution_count": 2,
   "metadata": {},
   "outputs": [],
   "source": [
    "import numpy as np\n",
    "import pandas as pd\n"
   ]
  },
  {
   "cell_type": "code",
   "execution_count": 3,
   "metadata": {},
   "outputs": [],
   "source": [
    "#File Path\n",
    "file_path = \"../data/raw/online retail.xlsx\"\n",
    "csv_output_path = \"../data/processed/online_retail.csv\"\n",
    "\n",
    "#Read Excel File\n",
    "df_raw= pd.read_excel(file_path, engine=\"openpyxl\")\n",
    "\n",
    "# Save as CSV\n",
    "df_raw.to_csv(csv_output_path, index=False)"
   ]
  },
  {
   "cell_type": "markdown",
   "metadata": {},
   "source": [
    "# **Data Collection**\n"
   ]
  },
  {
   "cell_type": "code",
   "execution_count": 4,
   "metadata": {},
   "outputs": [
    {
     "data": {
      "text/html": [
       "<div>\n",
       "<style scoped>\n",
       "    .dataframe tbody tr th:only-of-type {\n",
       "        vertical-align: middle;\n",
       "    }\n",
       "\n",
       "    .dataframe tbody tr th {\n",
       "        vertical-align: top;\n",
       "    }\n",
       "\n",
       "    .dataframe thead th {\n",
       "        text-align: right;\n",
       "    }\n",
       "</style>\n",
       "<table border=\"1\" class=\"dataframe\">\n",
       "  <thead>\n",
       "    <tr style=\"text-align: right;\">\n",
       "      <th></th>\n",
       "      <th>InvoiceNo</th>\n",
       "      <th>StockCode</th>\n",
       "      <th>Description</th>\n",
       "      <th>Quantity</th>\n",
       "      <th>InvoiceDate</th>\n",
       "      <th>UnitPrice</th>\n",
       "      <th>CustomerID</th>\n",
       "      <th>Country</th>\n",
       "    </tr>\n",
       "  </thead>\n",
       "  <tbody>\n",
       "    <tr>\n",
       "      <th>0</th>\n",
       "      <td>536365</td>\n",
       "      <td>85123A</td>\n",
       "      <td>WHITE HANGING HEART T-LIGHT HOLDER</td>\n",
       "      <td>6</td>\n",
       "      <td>2010-12-01 08:26:00</td>\n",
       "      <td>2.55</td>\n",
       "      <td>17850.0</td>\n",
       "      <td>United Kingdom</td>\n",
       "    </tr>\n",
       "    <tr>\n",
       "      <th>1</th>\n",
       "      <td>536365</td>\n",
       "      <td>71053</td>\n",
       "      <td>WHITE METAL LANTERN</td>\n",
       "      <td>6</td>\n",
       "      <td>2010-12-01 08:26:00</td>\n",
       "      <td>3.39</td>\n",
       "      <td>17850.0</td>\n",
       "      <td>United Kingdom</td>\n",
       "    </tr>\n",
       "    <tr>\n",
       "      <th>2</th>\n",
       "      <td>536365</td>\n",
       "      <td>84406B</td>\n",
       "      <td>CREAM CUPID HEARTS COAT HANGER</td>\n",
       "      <td>8</td>\n",
       "      <td>2010-12-01 08:26:00</td>\n",
       "      <td>2.75</td>\n",
       "      <td>17850.0</td>\n",
       "      <td>United Kingdom</td>\n",
       "    </tr>\n",
       "    <tr>\n",
       "      <th>3</th>\n",
       "      <td>536365</td>\n",
       "      <td>84029G</td>\n",
       "      <td>KNITTED UNION FLAG HOT WATER BOTTLE</td>\n",
       "      <td>6</td>\n",
       "      <td>2010-12-01 08:26:00</td>\n",
       "      <td>3.39</td>\n",
       "      <td>17850.0</td>\n",
       "      <td>United Kingdom</td>\n",
       "    </tr>\n",
       "    <tr>\n",
       "      <th>4</th>\n",
       "      <td>536365</td>\n",
       "      <td>84029E</td>\n",
       "      <td>RED WOOLLY HOTTIE WHITE HEART.</td>\n",
       "      <td>6</td>\n",
       "      <td>2010-12-01 08:26:00</td>\n",
       "      <td>3.39</td>\n",
       "      <td>17850.0</td>\n",
       "      <td>United Kingdom</td>\n",
       "    </tr>\n",
       "  </tbody>\n",
       "</table>\n",
       "</div>"
      ],
      "text/plain": [
       "  InvoiceNo StockCode                          Description  Quantity  \\\n",
       "0    536365    85123A   WHITE HANGING HEART T-LIGHT HOLDER         6   \n",
       "1    536365     71053                  WHITE METAL LANTERN         6   \n",
       "2    536365    84406B       CREAM CUPID HEARTS COAT HANGER         8   \n",
       "3    536365    84029G  KNITTED UNION FLAG HOT WATER BOTTLE         6   \n",
       "4    536365    84029E       RED WOOLLY HOTTIE WHITE HEART.         6   \n",
       "\n",
       "           InvoiceDate  UnitPrice  CustomerID         Country  \n",
       "0  2010-12-01 08:26:00       2.55     17850.0  United Kingdom  \n",
       "1  2010-12-01 08:26:00       3.39     17850.0  United Kingdom  \n",
       "2  2010-12-01 08:26:00       2.75     17850.0  United Kingdom  \n",
       "3  2010-12-01 08:26:00       3.39     17850.0  United Kingdom  \n",
       "4  2010-12-01 08:26:00       3.39     17850.0  United Kingdom  "
      ]
     },
     "execution_count": 4,
     "metadata": {},
     "output_type": "execute_result"
    }
   ],
   "source": [
    "# Read CSV file\n",
    "df = pd.read_csv('../data/processed/online_retail.csv')\n",
    "\n",
    "df.head()"
   ]
  },
  {
   "cell_type": "code",
   "execution_count": 5,
   "metadata": {},
   "outputs": [
    {
     "data": {
      "text/plain": [
       "(541909, 8)"
      ]
     },
     "execution_count": 5,
     "metadata": {},
     "output_type": "execute_result"
    }
   ],
   "source": [
    "#Check the data shape\n",
    "df.shape"
   ]
  },
  {
   "cell_type": "markdown",
   "metadata": {},
   "source": [
    "This means our dataset contains:\n",
    "- 541,909 rows → Each row represents a transaction record.\n",
    "- 8 columns → These are the different attributes describing each transaction.\n",
    "This gives us an initial understanding of the dataset's size before diving deeper."
   ]
  },
  {
   "cell_type": "markdown",
   "metadata": {},
   "source": [
    "# **Data Cleaning**\n"
   ]
  },
  {
   "cell_type": "markdown",
   "metadata": {},
   "source": [
    "##### **Checking Datatype**"
   ]
  },
  {
   "cell_type": "code",
   "execution_count": 6,
   "metadata": {},
   "outputs": [
    {
     "name": "stdout",
     "output_type": "stream",
     "text": [
      "<class 'pandas.core.frame.DataFrame'>\n",
      "RangeIndex: 541909 entries, 0 to 541908\n",
      "Data columns (total 8 columns):\n",
      " #   Column       Non-Null Count   Dtype  \n",
      "---  ------       --------------   -----  \n",
      " 0   InvoiceNo    541909 non-null  object \n",
      " 1   StockCode    541909 non-null  object \n",
      " 2   Description  540455 non-null  object \n",
      " 3   Quantity     541909 non-null  int64  \n",
      " 4   InvoiceDate  541909 non-null  object \n",
      " 5   UnitPrice    541909 non-null  float64\n",
      " 6   CustomerID   406829 non-null  float64\n",
      " 7   Country      541909 non-null  object \n",
      "dtypes: float64(2), int64(1), object(5)\n",
      "memory usage: 33.1+ MB\n"
     ]
    }
   ],
   "source": [
    "#Check the Basic info\n",
    "df.info()"
   ]
  },
  {
   "cell_type": "code",
   "execution_count": 7,
   "metadata": {},
   "outputs": [],
   "source": [
    "#Converting CustomerID Data Type\n",
    "df['CustomerID'] = df['CustomerID'].astype('object')"
   ]
  },
  {
   "cell_type": "markdown",
   "metadata": {},
   "source": [
    "In the dataset, CustomerID was initially stored as a numeric type but was converted to object because it represents a categorical identifier rather than a numerical value\n",
    "\n",
    "The dataset contains **541,909 rows and 8 columns**. Five columns (`InvoiceNo`, `StockCode`, `Description`, `InvoiceDate`, `Country`) are `object` types, while `Quantity` is an integer and `UnitPrice` & `CustomerID` are floats.  Missing values appear in `Description` and `CustomerID`, likely indicating incomplete product details and guest transactions.\n",
    "\n"
   ]
  },
  {
   "cell_type": "markdown",
   "metadata": {},
   "source": [
    "##### **Checking Missing Value**\n",
    "In this step, we checked for missing values in the dataset using the `.isnull().sum()` method. The results show the number of missing values for each column in the dataset."
   ]
  },
  {
   "cell_type": "code",
   "execution_count": 8,
   "metadata": {},
   "outputs": [
    {
     "data": {
      "text/plain": [
       "InvoiceNo           0\n",
       "StockCode           0\n",
       "Description      1454\n",
       "Quantity            0\n",
       "InvoiceDate         0\n",
       "UnitPrice           0\n",
       "CustomerID     135080\n",
       "Country             0\n",
       "dtype: int64"
      ]
     },
     "execution_count": 8,
     "metadata": {},
     "output_type": "execute_result"
    }
   ],
   "source": [
    "# Count missing values per column\n",
    "df.isnull().sum()"
   ]
  },
  {
   "cell_type": "markdown",
   "metadata": {},
   "source": [
    "- **CustomerID** has a significant number of missing values, with **135,080** missing entries.\n",
    "- **Description** also has some missing values, totaling **1,454** entries.\n",
    "- Other columns, such as **InvoiceNo, StockCode, Quantity, InvoiceDate, UnitPrice, Country, and Is_Canceled**, have no missing values (0 missing values).\n",
    "\n"
   ]
  },
  {
   "cell_type": "code",
   "execution_count": 9,
   "metadata": {},
   "outputs": [
    {
     "name": "stdout",
     "output_type": "stream",
     "text": [
      "CustomerID Missing Value: 135080\n",
      "Missing Value Percentage: 24.93 %\n"
     ]
    }
   ],
   "source": [
    "missing_percentage = df['CustomerID'].isnull().mean() * 100\n",
    "print(f'CustomerID Missing Value: {df[\"CustomerID\"].isnull().sum()}')\n",
    "print(f'Missing Value Percentage: {missing_percentage:.2f} %')"
   ]
  },
  {
   "cell_type": "code",
   "execution_count": 10,
   "metadata": {},
   "outputs": [
    {
     "name": "stdout",
     "output_type": "stream",
     "text": [
      "                Missing Value Proportion\n",
      "Country                                 \n",
      "Hong Kong                         100.00\n",
      "Unspecified                        45.29\n",
      "United Kingdom                     26.96\n",
      "Israel                             15.82\n",
      "Bahrain                            10.53\n",
      "EIRE                                8.67\n",
      "Switzerland                         6.24\n",
      "Portugal                            2.57\n",
      "France                              0.77\n"
     ]
    }
   ],
   "source": [
    "#Calculate Missing Value  Proportionnn by country\n",
    "missing_by_country = df.groupby('Country')['CustomerID'].apply(lambda x: x.isna().mean() * 100).sort_values(ascending=False)\n",
    "missing_by_country = missing_by_country[missing_by_country > 0].round(2)\n",
    "\n",
    "# Convert to DataFrame and rename column\n",
    "missing_by_country = missing_by_country.to_frame(name=\"Missing Value Proportion\")\n",
    "\n",
    "# Print properly formatted output\n",
    "print(missing_by_country)"
   ]
  },
  {
   "cell_type": "markdown",
   "metadata": {},
   "source": [
    "Hong Kong has the highest proportion of missing CustomerID values at 100%, suggesting either a different data recording system or unregistered customers. The United Kingdom (26.96%) and Unspecified (45.29%) categories also show significant missing values, which might be due to guest checkouts or incomplete records, while other countries like Israel (15.82%), Bahrain (10.53%), and EIRE (8.67%) have moderate levels of missing data. To address this, further investigation is needed, particularly for Hong Kong and the Unspecified category, to determine whether the missing values should be removed, imputed, or retained based on business relevance."
   ]
  },
  {
   "cell_type": "code",
   "execution_count": 11,
   "metadata": {},
   "outputs": [
    {
     "name": "stdout",
     "output_type": "stream",
     "text": [
      "Hong Kong contributes 46.11% of all missing CustomerID values.\n"
     ]
    }
   ],
   "source": [
    "#Hongkong CustomerID missing value\n",
    "hongkong_missing = missing_by_country.loc[\"Hong Kong\", \"Missing Value Proportion\"]\n",
    "\n",
    "total_missing = missing_by_country[\"Missing Value Proportion\"].sum()\n",
    "\n",
    "\n",
    "percentage_hongkong = (hongkong_missing / total_missing) * 100\n",
    "print(f\"Hong Kong contributes {percentage_hongkong:.2f}% of all missing CustomerID values.\")\n"
   ]
  },
  {
   "cell_type": "code",
   "execution_count": 12,
   "metadata": {},
   "outputs": [
    {
     "name": "stdout",
     "output_type": "stream",
     "text": [
      "Mising CustomerID by  Invoices:  3710\n",
      "Amount Unique InvoiceNo:  25900\n"
     ]
    }
   ],
   "source": [
    "#CustomerID missing value by InvoiceNo\n",
    "num_missing_invoices = df[df['CustomerID'].isna()]['InvoiceNo'].nunique()\n",
    "print(f'Mising CustomerID by  Invoices:  {num_missing_invoices}')\n",
    "InvoiceNo_unique = df['InvoiceNo'].nunique()\n",
    "\n",
    "print(f'Amount Unique InvoiceNo: ',InvoiceNo_unique)"
   ]
  },
  {
   "cell_type": "markdown",
   "metadata": {},
   "source": [
    "This suggests that these transactions were recorded without an associated customer identifier, which may impact customer-level analysis.\n"
   ]
  },
  {
   "cell_type": "code",
   "execution_count": 13,
   "metadata": {},
   "outputs": [
    {
     "name": "stdout",
     "output_type": "stream",
     "text": [
      "Total missing CustomerIDs in canceled transactions: 1719\n"
     ]
    }
   ],
   "source": [
    "#CustomerID  missing value by canceled transaction\n",
    "missing_returns = df[df['CustomerID'].isna() & (df['Quantity'] < 0)]\n",
    "print(f\"Total missing CustomerIDs in canceled transactions: {missing_returns.shape[0]}\")\n"
   ]
  },
  {
   "cell_type": "markdown",
   "metadata": {},
   "source": [
    "The fact that **1,719 CustomerIDs are missing in canceled transactions** suggests that many orders without an assigned customer were later canceled. This could indicate that guest checkouts, system errors, or unregistered customers are more prone to cancellations. Understanding this pattern can help in improving customer retention strategies and identifying potential data quality issues.\n",
    "\n",
    "Due to significant missing values in CustomerID, customer-based analysis may lead to biased insights. Thus, we decided to exclude it and focus on more reliable features."
   ]
  },
  {
   "cell_type": "markdown",
   "metadata": {},
   "source": [
    "##### **Checking Duplication**"
   ]
  },
  {
   "cell_type": "code",
   "execution_count": 14,
   "metadata": {},
   "outputs": [
    {
     "data": {
      "text/plain": [
       "5268"
      ]
     },
     "execution_count": 14,
     "metadata": {},
     "output_type": "execute_result"
    }
   ],
   "source": [
    "# Identify duplicate rows (excluding the first occurrence)\n",
    "df.duplicated().sum()"
   ]
  },
  {
   "cell_type": "code",
   "execution_count": 15,
   "metadata": {},
   "outputs": [],
   "source": [
    "# Remove duplicate rows, keeping only the first occurrence\n",
    "df.drop_duplicates(keep='first', inplace=True)"
   ]
  },
  {
   "cell_type": "code",
   "execution_count": 16,
   "metadata": {},
   "outputs": [
    {
     "data": {
      "text/plain": [
       "0"
      ]
     },
     "execution_count": 16,
     "metadata": {},
     "output_type": "execute_result"
    }
   ],
   "source": [
    "#  Count the number of duplicated rows again to verify removal\n",
    "df.duplicated().sum()"
   ]
  },
  {
   "cell_type": "markdown",
   "metadata": {},
   "source": [
    "##### **Checking Irrelevant Value**"
   ]
  },
  {
   "cell_type": "code",
   "execution_count": 17,
   "metadata": {},
   "outputs": [
    {
     "name": "stdout",
     "output_type": "stream",
     "text": [
      "<class 'pandas.core.frame.DataFrame'>\n",
      "Index: 536641 entries, 0 to 541908\n",
      "Data columns (total 8 columns):\n",
      " #   Column       Non-Null Count   Dtype  \n",
      "---  ------       --------------   -----  \n",
      " 0   InvoiceNo    536641 non-null  object \n",
      " 1   StockCode    536641 non-null  object \n",
      " 2   Description  535187 non-null  object \n",
      " 3   Quantity     536641 non-null  int64  \n",
      " 4   InvoiceDate  536641 non-null  object \n",
      " 5   UnitPrice    536641 non-null  float64\n",
      " 6   CustomerID   401604 non-null  object \n",
      " 7   Country      536641 non-null  object \n",
      "dtypes: float64(1), int64(1), object(6)\n",
      "memory usage: 36.8+ MB\n"
     ]
    }
   ],
   "source": [
    "df.info()"
   ]
  },
  {
   "cell_type": "markdown",
   "metadata": {},
   "source": [
    "##### **Checking Irrelevant Value : InvoiceNo**"
   ]
  },
  {
   "cell_type": "markdown",
   "metadata": {},
   "source": [
    "Since `InvoiceNo` is expected to have a numeric format, we need to check if there are any values with a different format. The code below identifies non-numeric `InvoiceNo`, which may indicate anomalies or specific cases that require further investigation. "
   ]
  },
  {
   "cell_type": "code",
   "execution_count": 23,
   "metadata": {},
   "outputs": [
    {
     "data": {
      "text/plain": [
       "141       C536379\n",
       "154       C536383\n",
       "235       C536391\n",
       "236       C536391\n",
       "237       C536391\n",
       "           ...   \n",
       "540449    C581490\n",
       "541541    C581499\n",
       "541715    C581568\n",
       "541716    C581569\n",
       "541717    C581569\n",
       "Name: InvoiceNo, Length: 9254, dtype: object"
      ]
     },
     "execution_count": 23,
     "metadata": {},
     "output_type": "execute_result"
    }
   ],
   "source": [
    "#Checking InvoiceNo format\n",
    "invoice_different_format =  df[~df['InvoiceNo'].str.isnumeric()]\n",
    "\n",
    "invoice_different_format['InvoiceNo']"
   ]
  },
  {
   "cell_type": "code",
   "execution_count": 66,
   "metadata": {},
   "outputs": [
    {
     "data": {
      "text/plain": [
       "3839"
      ]
     },
     "execution_count": 66,
     "metadata": {},
     "output_type": "execute_result"
    }
   ],
   "source": [
    "# Counts Unique non-numeric InvoiceNo\n",
    "invoice_different_format['InvoiceNo'].nunique()"
   ]
  },
  {
   "cell_type": "code",
   "execution_count": 79,
   "metadata": {},
   "outputs": [
    {
     "name": "stdout",
     "output_type": "stream",
     "text": [
      "       InvoiceNo  Quantity\n",
      "141      C536379        -1\n",
      "154      C536383        -1\n",
      "235      C536391       -12\n",
      "236      C536391       -24\n",
      "237      C536391       -24\n",
      "...          ...       ...\n",
      "540449   C581490       -11\n",
      "541541   C581499        -1\n",
      "541715   C581568        -5\n",
      "541716   C581569        -1\n",
      "541717   C581569        -5\n",
      "\n",
      "[9254 rows x 2 columns]\n"
     ]
    }
   ],
   "source": [
    "# Group by InvoiceNo and sum the Quantity column\n",
    "invoice_summary = invoice_different_format[['InvoiceNo', 'Quantity']]\n",
    "print(invoice_summary)"
   ]
  },
  {
   "cell_type": "code",
   "execution_count": 91,
   "metadata": {},
   "outputs": [
    {
     "name": "stdout",
     "output_type": "stream",
     "text": [
      "       InvoiceNo  Quantity\n",
      "141      C536379        -1\n",
      "154      C536383        -1\n",
      "235      C536391       -12\n",
      "236      C536391       -24\n",
      "237      C536391       -24\n",
      "...          ...       ...\n",
      "540449   C581490       -11\n",
      "541541   C581499        -1\n",
      "541715   C581568        -5\n",
      "541716   C581569        -1\n",
      "541717   C581569        -5\n",
      "\n",
      "[9251 rows x 2 columns]\n"
     ]
    }
   ],
   "source": [
    "# Filter invoices where Quantity is less than 0\n",
    "negative_invoice_summary = invoice_different_format[invoice_different_format['Quantity'] < 0][['InvoiceNo', 'Quantity']]\n",
    "\n",
    "# Display the result\n",
    "print(negative_invoice_summary)\n"
   ]
  },
  {
   "cell_type": "code",
   "execution_count": 95,
   "metadata": {},
   "outputs": [
    {
     "name": "stdout",
     "output_type": "stream",
     "text": [
      "       InvoiceNo  Quantity\n",
      "299982   A563185         1\n",
      "299983   A563186         1\n",
      "299984   A563187         1\n"
     ]
    }
   ],
   "source": [
    "# Filter invoices where Quantity is greater than or equal to 0\n",
    "positive_invoice_summary = invoice_different_format[invoice_different_format['Quantity'] >= 0][['InvoiceNo', 'Quantity']]\n",
    "\n",
    "# Display the result\n",
    "print(positive_invoice_summary)\n"
   ]
  },
  {
   "cell_type": "markdown",
   "metadata": {},
   "source": [
    "Non-numeric `InvoiceNo` values (9,254 entries, 3,839 unique) start with 'C' and 'A'. Specifically, invoices starting with 'C' contain negative `Quantity` values, totaling 9,251 entries, suggesting they may represent returns or adjustments. In contrast, invoices starting with 'A' have positive `Quantity` values but account for only 3 entries, indicating a rare but structured pattern. This structured distinction implies an intentional data classification rather than an anomaly or human error. Further clarification from the team is needed to understand the context behind these invoice formats and ensure accurate data handling."
   ]
  }
 ],
 "metadata": {
  "kernelspec": {
   "display_name": "Python 3",
   "language": "python",
   "name": "python3"
  },
  "language_info": {
   "codemirror_mode": {
    "name": "ipython",
    "version": 3
   },
   "file_extension": ".py",
   "mimetype": "text/x-python",
   "name": "python",
   "nbconvert_exporter": "python",
   "pygments_lexer": "ipython3",
   "version": "3.12.1"
  },
  "orig_nbformat": 4
 },
 "nbformat": 4,
 "nbformat_minor": 2
}
